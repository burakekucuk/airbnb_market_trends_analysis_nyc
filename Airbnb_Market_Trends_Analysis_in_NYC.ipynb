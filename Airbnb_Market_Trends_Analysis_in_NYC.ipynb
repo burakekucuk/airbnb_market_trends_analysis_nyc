{
  "nbformat": 4,
  "nbformat_minor": 0,
  "metadata": {
    "colab": {
      "provenance": []
    },
    "kernelspec": {
      "name": "python3",
      "display_name": "Python 3"
    },
    "language_info": {
      "name": "python"
    }
  },
  "cells": [
    {
      "cell_type": "markdown",
      "source": [
        "# Airbnb Market Trends Analysis in NYC\n",
        "\n",
        "## Project Overview\n",
        "In this project, I explore key trends within the Airbnb market by analyzing listing prices, room types, and review activity. The goal is to uncover valuable insights that could be useful for Airbnb hosts, investors, or those interested in the short-term rental market.\n",
        "\n",
        "## Objectives\n",
        "1. Analyze room type distribution to understand market offerings.\n",
        "2. Calculate the average listing price.\n",
        "3. Examine review trends over time to identify user engagement.\n",
        "4. Summarize key metrics such as the earliest and latest review dates, number of private rooms, and average price.\n",
        "\n",
        "## Data Overview\n",
        "I work with three datasets:\n",
        "- **airbnb_price.csv**: Contains price information for Airbnb listings.\n",
        "- **airbnb_room_type.xlsx**: Contains details about the types of rooms offered (e.g., Private Room, Entire Home, etc.).\n",
        "- **airbnb_last_review.tsv**: Contains the date of the most recent review for each listing."
      ],
      "metadata": {
        "id": "GgGJasXP-jTY"
      }
    },
    {
      "cell_type": "markdown",
      "source": [
        "# Step-by-Step Analysis"
      ],
      "metadata": {
        "id": "j5tdDn3xBPqA"
      }
    },
    {
      "cell_type": "markdown",
      "source": [
        "## Step 1: Import Libraries\n",
        "I start by importing the necessary libraries for data manipulation and visualization."
      ],
      "metadata": {
        "id": "NI8arKJ5BUqB"
      }
    },
    {
      "cell_type": "code",
      "execution_count": 24,
      "metadata": {
        "id": "zirzMqH_6Y5Y"
      },
      "outputs": [],
      "source": [
        "# Step 1: Import Libraries\n",
        "import pandas as pd\n",
        "import numpy as np\n",
        "import matplotlib.pyplot as plt"
      ]
    },
    {
      "cell_type": "markdown",
      "source": [
        "## Step 2: Loading the Data\n",
        "I load the data from the provided CSV, Excel, and TSV files into separate Pandas DataFrames."
      ],
      "metadata": {
        "id": "eztP7zfP-9LW"
      }
    },
    {
      "cell_type": "code",
      "source": [
        "# Load the datasets\n",
        "price = pd.read_csv('/content/airbnb_price.csv')\n",
        "room = pd.read_excel('/content/airbnb_room_type.xlsx')\n",
        "review = pd.read_csv('/content/airbnb_last_review.tsv', sep='\\t')"
      ],
      "metadata": {
        "id": "Syuz2BlK6gH5"
      },
      "execution_count": 25,
      "outputs": []
    },
    {
      "cell_type": "markdown",
      "source": [
        "## Step 3: Handling Missing Values\n",
        "Before proceeding, I clean the data to handle missing values."
      ],
      "metadata": {
        "id": "IhK2wpEo_DiY"
      }
    },
    {
      "cell_type": "code",
      "source": [
        "# Fill missing values\n",
        "room['description'] = room['description'].fillna('No description available')\n",
        "review['host_name'] = review['host_name'].fillna('Unknown')"
      ],
      "metadata": {
        "id": "CsYH_Yr1AUCQ"
      },
      "execution_count": 26,
      "outputs": []
    },
    {
      "cell_type": "markdown",
      "source": [
        "## Step 4: Data Inspection\n",
        "I inspect the first few rows of each DataFrame to verify that the data has been loaded correctly."
      ],
      "metadata": {
        "id": "NcAFvNta_Llg"
      }
    },
    {
      "cell_type": "code",
      "source": [
        "# Inspect first few rows\n",
        "print(price.head())\n",
        "print(room.head())\n",
        "print(review.head())"
      ],
      "metadata": {
        "colab": {
          "base_uri": "https://localhost:8080/"
        },
        "id": "m_ofnv4U_N6i",
        "outputId": "b6d4cd2e-92e5-479c-f8e2-3d0352fed63e"
      },
      "execution_count": 27,
      "outputs": [
        {
          "output_type": "stream",
          "name": "stdout",
          "text": [
            "   listing_id        price                nbhood_full\n",
            "0        2595  225 dollars         Manhattan, Midtown\n",
            "1        3831   89 dollars     Brooklyn, Clinton Hill\n",
            "2        5099  200 dollars     Manhattan, Murray Hill\n",
            "3        5178   79 dollars  Manhattan, Hell's Kitchen\n",
            "4        5238  150 dollars       Manhattan, Chinatown\n",
            "   listing_id                                description        room_type\n",
            "0        2595                      Skylit Midtown Castle  Entire home/apt\n",
            "1        3831            Cozy Entire Floor of Brownstone  Entire home/apt\n",
            "2        5099  Large Cozy 1 BR Apartment In Midtown East  Entire home/apt\n",
            "3        5178            Large Furnished Room Near B'way     private room\n",
            "4        5238         Cute & Cozy Lower East Side 1 bdrm  Entire home/apt\n",
            "   listing_id    host_name   last_review\n",
            "0        2595     Jennifer   May 21 2019\n",
            "1        3831  LisaRoxanne  July 05 2019\n",
            "2        5099        Chris  June 22 2019\n",
            "3        5178     Shunichi  June 24 2019\n",
            "4        5238          Ben  June 09 2019\n"
          ]
        }
      ]
    },
    {
      "cell_type": "markdown",
      "source": [
        "## Step 5: Merging the DataFrames\n",
        "To work with all the data together, I merge the `price`, `room`, and `review` DataFrames on the common `listing_id` column."
      ],
      "metadata": {
        "id": "ZKffDAUmAc9f"
      }
    },
    {
      "cell_type": "code",
      "source": [
        "# Merge the DataFrames on 'listing_id'\n",
        "merged_df = pd.merge(price, room, on='listing_id')\n",
        "merged_df = pd.merge(merged_df, review, on='listing_id')\n",
        "\n",
        "# Display the merged DataFrame\n",
        "merged_df.head()"
      ],
      "metadata": {
        "colab": {
          "base_uri": "https://localhost:8080/",
          "height": 206
        },
        "id": "CVKgOVx1AeKC",
        "outputId": "f00fdac0-92e5-407d-ec3d-549d297ac372"
      },
      "execution_count": 36,
      "outputs": [
        {
          "output_type": "execute_result",
          "data": {
            "text/plain": [
              "   listing_id        price                nbhood_full  \\\n",
              "0        2595  225 dollars         Manhattan, Midtown   \n",
              "1        3831   89 dollars     Brooklyn, Clinton Hill   \n",
              "2        5099  200 dollars     Manhattan, Murray Hill   \n",
              "3        5178   79 dollars  Manhattan, Hell's Kitchen   \n",
              "4        5238  150 dollars       Manhattan, Chinatown   \n",
              "\n",
              "                                 description        room_type    host_name  \\\n",
              "0                      Skylit Midtown Castle  Entire home/apt     Jennifer   \n",
              "1            Cozy Entire Floor of Brownstone  Entire home/apt  LisaRoxanne   \n",
              "2  Large Cozy 1 BR Apartment In Midtown East  Entire home/apt        Chris   \n",
              "3            Large Furnished Room Near B'way     private room     Shunichi   \n",
              "4         Cute & Cozy Lower East Side 1 bdrm  Entire home/apt          Ben   \n",
              "\n",
              "    last_review  \n",
              "0   May 21 2019  \n",
              "1  July 05 2019  \n",
              "2  June 22 2019  \n",
              "3  June 24 2019  \n",
              "4  June 09 2019  "
            ],
            "text/html": [
              "\n",
              "  <div id=\"df-cd8af5aa-8259-4530-99d6-06366366d6e8\" class=\"colab-df-container\">\n",
              "    <div>\n",
              "<style scoped>\n",
              "    .dataframe tbody tr th:only-of-type {\n",
              "        vertical-align: middle;\n",
              "    }\n",
              "\n",
              "    .dataframe tbody tr th {\n",
              "        vertical-align: top;\n",
              "    }\n",
              "\n",
              "    .dataframe thead th {\n",
              "        text-align: right;\n",
              "    }\n",
              "</style>\n",
              "<table border=\"1\" class=\"dataframe\">\n",
              "  <thead>\n",
              "    <tr style=\"text-align: right;\">\n",
              "      <th></th>\n",
              "      <th>listing_id</th>\n",
              "      <th>price</th>\n",
              "      <th>nbhood_full</th>\n",
              "      <th>description</th>\n",
              "      <th>room_type</th>\n",
              "      <th>host_name</th>\n",
              "      <th>last_review</th>\n",
              "    </tr>\n",
              "  </thead>\n",
              "  <tbody>\n",
              "    <tr>\n",
              "      <th>0</th>\n",
              "      <td>2595</td>\n",
              "      <td>225 dollars</td>\n",
              "      <td>Manhattan, Midtown</td>\n",
              "      <td>Skylit Midtown Castle</td>\n",
              "      <td>Entire home/apt</td>\n",
              "      <td>Jennifer</td>\n",
              "      <td>May 21 2019</td>\n",
              "    </tr>\n",
              "    <tr>\n",
              "      <th>1</th>\n",
              "      <td>3831</td>\n",
              "      <td>89 dollars</td>\n",
              "      <td>Brooklyn, Clinton Hill</td>\n",
              "      <td>Cozy Entire Floor of Brownstone</td>\n",
              "      <td>Entire home/apt</td>\n",
              "      <td>LisaRoxanne</td>\n",
              "      <td>July 05 2019</td>\n",
              "    </tr>\n",
              "    <tr>\n",
              "      <th>2</th>\n",
              "      <td>5099</td>\n",
              "      <td>200 dollars</td>\n",
              "      <td>Manhattan, Murray Hill</td>\n",
              "      <td>Large Cozy 1 BR Apartment In Midtown East</td>\n",
              "      <td>Entire home/apt</td>\n",
              "      <td>Chris</td>\n",
              "      <td>June 22 2019</td>\n",
              "    </tr>\n",
              "    <tr>\n",
              "      <th>3</th>\n",
              "      <td>5178</td>\n",
              "      <td>79 dollars</td>\n",
              "      <td>Manhattan, Hell's Kitchen</td>\n",
              "      <td>Large Furnished Room Near B'way</td>\n",
              "      <td>private room</td>\n",
              "      <td>Shunichi</td>\n",
              "      <td>June 24 2019</td>\n",
              "    </tr>\n",
              "    <tr>\n",
              "      <th>4</th>\n",
              "      <td>5238</td>\n",
              "      <td>150 dollars</td>\n",
              "      <td>Manhattan, Chinatown</td>\n",
              "      <td>Cute &amp; Cozy Lower East Side 1 bdrm</td>\n",
              "      <td>Entire home/apt</td>\n",
              "      <td>Ben</td>\n",
              "      <td>June 09 2019</td>\n",
              "    </tr>\n",
              "  </tbody>\n",
              "</table>\n",
              "</div>\n",
              "    <div class=\"colab-df-buttons\">\n",
              "\n",
              "  <div class=\"colab-df-container\">\n",
              "    <button class=\"colab-df-convert\" onclick=\"convertToInteractive('df-cd8af5aa-8259-4530-99d6-06366366d6e8')\"\n",
              "            title=\"Convert this dataframe to an interactive table.\"\n",
              "            style=\"display:none;\">\n",
              "\n",
              "  <svg xmlns=\"http://www.w3.org/2000/svg\" height=\"24px\" viewBox=\"0 -960 960 960\">\n",
              "    <path d=\"M120-120v-720h720v720H120Zm60-500h600v-160H180v160Zm220 220h160v-160H400v160Zm0 220h160v-160H400v160ZM180-400h160v-160H180v160Zm440 0h160v-160H620v160ZM180-180h160v-160H180v160Zm440 0h160v-160H620v160Z\"/>\n",
              "  </svg>\n",
              "    </button>\n",
              "\n",
              "  <style>\n",
              "    .colab-df-container {\n",
              "      display:flex;\n",
              "      gap: 12px;\n",
              "    }\n",
              "\n",
              "    .colab-df-convert {\n",
              "      background-color: #E8F0FE;\n",
              "      border: none;\n",
              "      border-radius: 50%;\n",
              "      cursor: pointer;\n",
              "      display: none;\n",
              "      fill: #1967D2;\n",
              "      height: 32px;\n",
              "      padding: 0 0 0 0;\n",
              "      width: 32px;\n",
              "    }\n",
              "\n",
              "    .colab-df-convert:hover {\n",
              "      background-color: #E2EBFA;\n",
              "      box-shadow: 0px 1px 2px rgba(60, 64, 67, 0.3), 0px 1px 3px 1px rgba(60, 64, 67, 0.15);\n",
              "      fill: #174EA6;\n",
              "    }\n",
              "\n",
              "    .colab-df-buttons div {\n",
              "      margin-bottom: 4px;\n",
              "    }\n",
              "\n",
              "    [theme=dark] .colab-df-convert {\n",
              "      background-color: #3B4455;\n",
              "      fill: #D2E3FC;\n",
              "    }\n",
              "\n",
              "    [theme=dark] .colab-df-convert:hover {\n",
              "      background-color: #434B5C;\n",
              "      box-shadow: 0px 1px 3px 1px rgba(0, 0, 0, 0.15);\n",
              "      filter: drop-shadow(0px 1px 2px rgba(0, 0, 0, 0.3));\n",
              "      fill: #FFFFFF;\n",
              "    }\n",
              "  </style>\n",
              "\n",
              "    <script>\n",
              "      const buttonEl =\n",
              "        document.querySelector('#df-cd8af5aa-8259-4530-99d6-06366366d6e8 button.colab-df-convert');\n",
              "      buttonEl.style.display =\n",
              "        google.colab.kernel.accessAllowed ? 'block' : 'none';\n",
              "\n",
              "      async function convertToInteractive(key) {\n",
              "        const element = document.querySelector('#df-cd8af5aa-8259-4530-99d6-06366366d6e8');\n",
              "        const dataTable =\n",
              "          await google.colab.kernel.invokeFunction('convertToInteractive',\n",
              "                                                    [key], {});\n",
              "        if (!dataTable) return;\n",
              "\n",
              "        const docLinkHtml = 'Like what you see? Visit the ' +\n",
              "          '<a target=\"_blank\" href=https://colab.research.google.com/notebooks/data_table.ipynb>data table notebook</a>'\n",
              "          + ' to learn more about interactive tables.';\n",
              "        element.innerHTML = '';\n",
              "        dataTable['output_type'] = 'display_data';\n",
              "        await google.colab.output.renderOutput(dataTable, element);\n",
              "        const docLink = document.createElement('div');\n",
              "        docLink.innerHTML = docLinkHtml;\n",
              "        element.appendChild(docLink);\n",
              "      }\n",
              "    </script>\n",
              "  </div>\n",
              "\n",
              "\n",
              "<div id=\"df-c1d8a437-a0f7-4268-8646-b3afa8be62a8\">\n",
              "  <button class=\"colab-df-quickchart\" onclick=\"quickchart('df-c1d8a437-a0f7-4268-8646-b3afa8be62a8')\"\n",
              "            title=\"Suggest charts\"\n",
              "            style=\"display:none;\">\n",
              "\n",
              "<svg xmlns=\"http://www.w3.org/2000/svg\" height=\"24px\"viewBox=\"0 0 24 24\"\n",
              "     width=\"24px\">\n",
              "    <g>\n",
              "        <path d=\"M19 3H5c-1.1 0-2 .9-2 2v14c0 1.1.9 2 2 2h14c1.1 0 2-.9 2-2V5c0-1.1-.9-2-2-2zM9 17H7v-7h2v7zm4 0h-2V7h2v10zm4 0h-2v-4h2v4z\"/>\n",
              "    </g>\n",
              "</svg>\n",
              "  </button>\n",
              "\n",
              "<style>\n",
              "  .colab-df-quickchart {\n",
              "      --bg-color: #E8F0FE;\n",
              "      --fill-color: #1967D2;\n",
              "      --hover-bg-color: #E2EBFA;\n",
              "      --hover-fill-color: #174EA6;\n",
              "      --disabled-fill-color: #AAA;\n",
              "      --disabled-bg-color: #DDD;\n",
              "  }\n",
              "\n",
              "  [theme=dark] .colab-df-quickchart {\n",
              "      --bg-color: #3B4455;\n",
              "      --fill-color: #D2E3FC;\n",
              "      --hover-bg-color: #434B5C;\n",
              "      --hover-fill-color: #FFFFFF;\n",
              "      --disabled-bg-color: #3B4455;\n",
              "      --disabled-fill-color: #666;\n",
              "  }\n",
              "\n",
              "  .colab-df-quickchart {\n",
              "    background-color: var(--bg-color);\n",
              "    border: none;\n",
              "    border-radius: 50%;\n",
              "    cursor: pointer;\n",
              "    display: none;\n",
              "    fill: var(--fill-color);\n",
              "    height: 32px;\n",
              "    padding: 0;\n",
              "    width: 32px;\n",
              "  }\n",
              "\n",
              "  .colab-df-quickchart:hover {\n",
              "    background-color: var(--hover-bg-color);\n",
              "    box-shadow: 0 1px 2px rgba(60, 64, 67, 0.3), 0 1px 3px 1px rgba(60, 64, 67, 0.15);\n",
              "    fill: var(--button-hover-fill-color);\n",
              "  }\n",
              "\n",
              "  .colab-df-quickchart-complete:disabled,\n",
              "  .colab-df-quickchart-complete:disabled:hover {\n",
              "    background-color: var(--disabled-bg-color);\n",
              "    fill: var(--disabled-fill-color);\n",
              "    box-shadow: none;\n",
              "  }\n",
              "\n",
              "  .colab-df-spinner {\n",
              "    border: 2px solid var(--fill-color);\n",
              "    border-color: transparent;\n",
              "    border-bottom-color: var(--fill-color);\n",
              "    animation:\n",
              "      spin 1s steps(1) infinite;\n",
              "  }\n",
              "\n",
              "  @keyframes spin {\n",
              "    0% {\n",
              "      border-color: transparent;\n",
              "      border-bottom-color: var(--fill-color);\n",
              "      border-left-color: var(--fill-color);\n",
              "    }\n",
              "    20% {\n",
              "      border-color: transparent;\n",
              "      border-left-color: var(--fill-color);\n",
              "      border-top-color: var(--fill-color);\n",
              "    }\n",
              "    30% {\n",
              "      border-color: transparent;\n",
              "      border-left-color: var(--fill-color);\n",
              "      border-top-color: var(--fill-color);\n",
              "      border-right-color: var(--fill-color);\n",
              "    }\n",
              "    40% {\n",
              "      border-color: transparent;\n",
              "      border-right-color: var(--fill-color);\n",
              "      border-top-color: var(--fill-color);\n",
              "    }\n",
              "    60% {\n",
              "      border-color: transparent;\n",
              "      border-right-color: var(--fill-color);\n",
              "    }\n",
              "    80% {\n",
              "      border-color: transparent;\n",
              "      border-right-color: var(--fill-color);\n",
              "      border-bottom-color: var(--fill-color);\n",
              "    }\n",
              "    90% {\n",
              "      border-color: transparent;\n",
              "      border-bottom-color: var(--fill-color);\n",
              "    }\n",
              "  }\n",
              "</style>\n",
              "\n",
              "  <script>\n",
              "    async function quickchart(key) {\n",
              "      const quickchartButtonEl =\n",
              "        document.querySelector('#' + key + ' button');\n",
              "      quickchartButtonEl.disabled = true;  // To prevent multiple clicks.\n",
              "      quickchartButtonEl.classList.add('colab-df-spinner');\n",
              "      try {\n",
              "        const charts = await google.colab.kernel.invokeFunction(\n",
              "            'suggestCharts', [key], {});\n",
              "      } catch (error) {\n",
              "        console.error('Error during call to suggestCharts:', error);\n",
              "      }\n",
              "      quickchartButtonEl.classList.remove('colab-df-spinner');\n",
              "      quickchartButtonEl.classList.add('colab-df-quickchart-complete');\n",
              "    }\n",
              "    (() => {\n",
              "      let quickchartButtonEl =\n",
              "        document.querySelector('#df-c1d8a437-a0f7-4268-8646-b3afa8be62a8 button');\n",
              "      quickchartButtonEl.style.display =\n",
              "        google.colab.kernel.accessAllowed ? 'block' : 'none';\n",
              "    })();\n",
              "  </script>\n",
              "</div>\n",
              "\n",
              "    </div>\n",
              "  </div>\n"
            ],
            "application/vnd.google.colaboratory.intrinsic+json": {
              "type": "dataframe",
              "variable_name": "merged_df",
              "summary": "{\n  \"name\": \"merged_df\",\n  \"rows\": 25209,\n  \"fields\": [\n    {\n      \"column\": \"listing_id\",\n      \"properties\": {\n        \"dtype\": \"number\",\n        \"std\": 11029278,\n        \"min\": 2595,\n        \"max\": 36455809,\n        \"num_unique_values\": 25209,\n        \"samples\": [\n          6326410,\n          35611781,\n          29869390\n        ],\n        \"semantic_type\": \"\",\n        \"description\": \"\"\n      }\n    },\n    {\n      \"column\": \"price\",\n      \"properties\": {\n        \"dtype\": \"category\",\n        \"num_unique_values\": 536,\n        \"samples\": [\n          \"146 dollars\",\n          \"73 dollars\",\n          \"138 dollars\"\n        ],\n        \"semantic_type\": \"\",\n        \"description\": \"\"\n      }\n    },\n    {\n      \"column\": \"nbhood_full\",\n      \"properties\": {\n        \"dtype\": \"category\",\n        \"num_unique_values\": 217,\n        \"samples\": [\n          \"Queens, Hollis\",\n          \"Queens, Jamaica Hills\",\n          \"Queens, Jamaica Estates\"\n        ],\n        \"semantic_type\": \"\",\n        \"description\": \"\"\n      }\n    },\n    {\n      \"column\": \"description\",\n      \"properties\": {\n        \"dtype\": \"string\",\n        \"num_unique_values\": 24947,\n        \"samples\": [\n          \"Sonder | Stock Exchange | Brilliant 1BR + Laundry\",\n          \"Bohemian Studio Loft in Brooklyn\",\n          \"Spacious & comfy BK bedroom 30mins from Manhattan.\"\n        ],\n        \"semantic_type\": \"\",\n        \"description\": \"\"\n      }\n    },\n    {\n      \"column\": \"room_type\",\n      \"properties\": {\n        \"dtype\": \"category\",\n        \"num_unique_values\": 9,\n        \"samples\": [\n          \"Shared room\",\n          \"private room\",\n          \"shared room\"\n        ],\n        \"semantic_type\": \"\",\n        \"description\": \"\"\n      }\n    },\n    {\n      \"column\": \"host_name\",\n      \"properties\": {\n        \"dtype\": \"category\",\n        \"num_unique_values\": 7364,\n        \"samples\": [\n          \"JeanRobert\",\n          \"LisaMarie\",\n          \"Charly\"\n        ],\n        \"semantic_type\": \"\",\n        \"description\": \"\"\n      }\n    },\n    {\n      \"column\": \"last_review\",\n      \"properties\": {\n        \"dtype\": \"object\",\n        \"num_unique_values\": 190,\n        \"samples\": [\n          \"March 03 2019\",\n          \"January 16 2019\",\n          \"May 03 2019\"\n        ],\n        \"semantic_type\": \"\",\n        \"description\": \"\"\n      }\n    }\n  ]\n}"
            }
          },
          "metadata": {},
          "execution_count": 36
        }
      ]
    },
    {
      "cell_type": "markdown",
      "source": [
        "## Step 6: Converting and Finding Review Dates\n",
        "The `last_review` column is converted to the correct datetime format to enable analysis of review trends. I also calculate the first and last review dates in the dataset.\n",
        "\n"
      ],
      "metadata": {
        "id": "SdiYNh0sAgzV"
      }
    },
    {
      "cell_type": "code",
      "source": [
        "# Convert and calculate review dates\n",
        "merged_df['last_review'] = pd.to_datetime(merged_df['last_review'], errors='coerce')\n",
        "first_reviewed = merged_df['last_review'].min()\n",
        "last_reviewed = merged_df['last_review'].max()\n",
        "\n",
        "print(f\"First reviewed date: {first_reviewed}\")\n",
        "print(f\"Last reviewed date: {last_reviewed}\")"
      ],
      "metadata": {
        "colab": {
          "base_uri": "https://localhost:8080/"
        },
        "id": "DCP9x687Ah19",
        "outputId": "17aa38e3-bae9-4ab3-ca5c-076a5beb956c"
      },
      "execution_count": 37,
      "outputs": [
        {
          "output_type": "stream",
          "name": "stdout",
          "text": [
            "First reviewed date: 2019-01-01 00:00:00\n",
            "Last reviewed date: 2019-07-09 00:00:00\n"
          ]
        }
      ]
    },
    {
      "cell_type": "markdown",
      "source": [
        "## Step 7: Counting Listings by Room Type\n",
        "I first clean the `room_type` column by converting all text to lowercase to ensure consistency. Then, I count the total number of listings for each room type."
      ],
      "metadata": {
        "id": "PzzwBozJAkiH"
      }
    },
    {
      "cell_type": "code",
      "source": [
        "# Clean and count listings by room type\n",
        "merged_df['room_type'] = merged_df['room_type'].str.lower()\n",
        "room_type_counts = merged_df['room_type'].value_counts()\n",
        "for room_type, count in room_type_counts.items():\n",
        "    print(f\"Number of {room_type} listings: {count}\")"
      ],
      "metadata": {
        "colab": {
          "base_uri": "https://localhost:8080/"
        },
        "id": "bXmbdezKAmLE",
        "outputId": "0cb008bf-31f8-456c-c1dc-4b9a11180865"
      },
      "execution_count": 45,
      "outputs": [
        {
          "output_type": "stream",
          "name": "stdout",
          "text": [
            "Number of entire home/apt listings: 13266\n",
            "Number of private room listings: 11356\n",
            "Number of shared room listings: 587\n"
          ]
        }
      ]
    },
    {
      "cell_type": "markdown",
      "source": [
        "## Step 8: Visualizing Room Type Distribution\n",
        "I visualize the distribution of different room types in the dataset using a bar chart. This helps us understand which types of rooms are most common on Airbnb."
      ],
      "metadata": {
        "id": "wHQYF8XAAoBj"
      }
    },
    {
      "cell_type": "code",
      "source": [
        "# Visualize room type distribution\n",
        "room_type_counts = merged_df['room_type'].value_counts()\n",
        "\n",
        "# Bar plot for room type distribution\n",
        "room_type_counts.plot(kind='bar', figsize=(8, 6), title='Distribution of Room Types')\n",
        "plt.ylabel('Number of Listings')\n",
        "plt.xlabel('Room Type')\n",
        "plt.show()"
      ],
      "metadata": {
        "colab": {
          "base_uri": "https://localhost:8080/",
          "height": 662
        },
        "id": "tNoqD56IApSR",
        "outputId": "d3d1cf80-7c3e-47fa-a361-c3644224b7aa"
      },
      "execution_count": 46,
      "outputs": [
        {
          "output_type": "display_data",
          "data": {
            "text/plain": [
              "<Figure size 800x600 with 1 Axes>"
            ],
            "image/png": "[encoded data removed]"
          },
          "metadata": {}
        }
      ]
    },
    {
      "cell_type": "markdown",
      "source": [
        "## Step 9: Calculating the Average Price\n",
        "To calculate the average listing price, I clean the price column by removing unwanted text and converting it to numeric values. The average price is then computed and rounded to two decimal places."
      ],
      "metadata": {
        "id": "l8nRW6YjAsWK"
      }
    },
    {
      "cell_type": "code",
      "source": [
        "# Calculate average price\n",
        "merged_df['price'] = merged_df['price'].replace(' dollars', '', regex=True).astype(float)\n",
        "average_price =  merged_df['price'].mean()\n",
        "\n",
        "# Round the average price to two decimal places\n",
        "average_price = round(average_price,2)\n",
        "\n",
        "print(f\"Average price of listing: {average_price}\")"
      ],
      "metadata": {
        "colab": {
          "base_uri": "https://localhost:8080/"
        },
        "id": "a-fkbwTvAtu6",
        "outputId": "3fef1239-ffe8-472d-bb47-ff47cb338316"
      },
      "execution_count": 47,
      "outputs": [
        {
          "output_type": "stream",
          "name": "stdout",
          "text": [
            "Average price of listing: 141.78\n"
          ]
        }
      ]
    },
    {
      "cell_type": "markdown",
      "source": [
        "## Step 10: Visualizing Review Trends Over Time\n",
        "I analyze the number of reviews over time to track user engagement trends. A line plot is used to visualize the number of reviews per day."
      ],
      "metadata": {
        "id": "8kH9h7LnAvf6"
      }
    },
    {
      "cell_type": "code",
      "source": [
        "# Visualize review trends over time\n",
        "reviews_over_time = merged_df.groupby('last_review').size()\n",
        "\n",
        "# Line plot for review trends over time\n",
        "reviews_over_time.plot(kind='line', figsize=(10, 6), title='Review Trends Over Time')\n",
        "plt.ylabel('Number of Reviews')\n",
        "plt.xlabel('Date')\n",
        "plt.xticks(rotation=45)\n",
        "plt.show()"
      ],
      "metadata": {
        "colab": {
          "base_uri": "https://localhost:8080/",
          "height": 596
        },
        "id": "-c8FS74gAwka",
        "outputId": "06fe4b70-2824-48be-b58c-89655c310c3b"
      },
      "execution_count": 48,
      "outputs": [
        {
          "output_type": "display_data",
          "data": {
            "text/plain": [
              "<Figure size 1000x600 with 1 Axes>"
            ],
            "image/png": "[encoded data removed]"
          },
          "metadata": {}
        }
      ]
    },
    {
      "cell_type": "markdown",
      "source": [
        "## Step 11: Summarizing Key Metrics\n",
        "Finally, I summarize the key insights (first and last review dates, number of private rooms, and average price) into a single-row DataFrame called review_dates."
      ],
      "metadata": {
        "id": "jJu9xPxZAy5Z"
      }
    },
    {
      "cell_type": "code",
      "source": [
        "# Create summary DataFrame\n",
        "data = {\n",
        "    'first_reviewed': [first_reviewed],\n",
        "    'last_reviewed': [last_reviewed],\n",
        "    'entire_home_apt_count': [room_type_counts.get('entire home/apt', 0)],\n",
        "    'private_room_count': [room_type_counts.get('private room', 0)],\n",
        "    'shared_room_count': [room_type_counts.get('shared room', 0)],\n",
        "    'average_price': [average_price]\n",
        "}\n",
        "\n",
        "review_dates = pd.DataFrame(data)\n",
        "print(review_dates)"
      ],
      "metadata": {
        "colab": {
          "base_uri": "https://localhost:8080/"
        },
        "id": "FytQtdMrA0Wm",
        "outputId": "9e3f052d-8863-42c0-884e-44708785103f"
      },
      "execution_count": 49,
      "outputs": [
        {
          "output_type": "stream",
          "name": "stdout",
          "text": [
            "  first_reviewed last_reviewed  entire_home_apt_count  private_room_count  \\\n",
            "0     2019-01-01    2019-07-09                  13266               11356   \n",
            "\n",
            "   shared_room_count  average_price  \n",
            "0                587         141.78  \n"
          ]
        }
      ]
    },
    {
      "cell_type": "markdown",
      "source": [
        "## Key Findings\n",
        "\n",
        "### 1. Room Type Distribution\n",
        "- Entire home/apt is the most common room type, with a total of 13,266 listings.\n",
        "- Private rooms come in second with 11,356 listings, followed by shared rooms with 587 listings.\n",
        "- This indicates a strong preference for renting entire homes or apartments, while private rooms also hold a significant share.\n",
        "\n",
        "### 2. Average Price\n",
        "- The average price for Airbnb listings is approximately $141.78.\n",
        "- This serves as a benchmark for hosts to competitively price their listings.\n",
        "\n",
        "### 3. Review Trends\n",
        "- User engagement peaks in mid-June, likely due to summer travel.\n",
        "- Engagement drops slightly toward the end of July, indicating the start of off-peak travel periods.\n",
        "\n",
        "### 4. Summary Table\n",
        "| First Reviewed | Last Reviewed | Entire Home/Apt Count | Private Room Count | Shared Room Count | Average Price |\n",
        "| -------------- | ------------- | --------------------- | ------------------ | ----------------- | ------------- |\n",
        "| 2019-01-01     | 2019-07-09    | 13,266               | 11,356            | 587               | $141.78       |"
      ],
      "metadata": {
        "id": "Z797ulQrA2o-"
      }
    },
    {
      "cell_type": "markdown",
      "source": [
        "## Conclusion\n",
        "This project provides valuable insights into the Airbnb market, including room type distribution, pricing, and review trends. These findings can guide Airbnb hosts, investors, and analysts in making informed decisions about the short-term rental market.\n",
        "\n",
        "By combining data analysis and visualization, this project demonstrates essential skills in data manipulation, cleaning, and presentation."
      ],
      "metadata": {
        "id": "CW5uoPcGA8ye"
      }
    }
  ]
}